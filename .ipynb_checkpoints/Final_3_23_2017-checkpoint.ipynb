{
 "cells": [
  {
   "cell_type": "markdown",
   "metadata": {},
   "source": [
    "#### Andrew Miller <br> Math 189 <br> Final Project: Predicting Housing Prices in Ames, Iowa"
   ]
  },
  {
   "cell_type": "code",
   "execution_count": 1,
   "metadata": {
    "collapsed": false
   },
   "outputs": [
    {
     "ename": "ImportError",
     "evalue": "No module named regressors",
     "output_type": "error",
     "traceback": [
      "\u001b[0;31m---------------------------------------------------------------------------\u001b[0m",
      "\u001b[0;31mImportError\u001b[0m                               Traceback (most recent call last)",
      "\u001b[0;32m<ipython-input-1-157bc1701dec>\u001b[0m in \u001b[0;36m<module>\u001b[0;34m()\u001b[0m\n\u001b[1;32m     11\u001b[0m \u001b[0;32mfrom\u001b[0m \u001b[0msklearn\u001b[0m\u001b[0;34m.\u001b[0m\u001b[0mfeature_selection\u001b[0m \u001b[0;32mimport\u001b[0m \u001b[0mSelectKBest\u001b[0m\u001b[0;34m\u001b[0m\u001b[0m\n\u001b[1;32m     12\u001b[0m \u001b[0;32mfrom\u001b[0m \u001b[0msklearn\u001b[0m\u001b[0;34m.\u001b[0m\u001b[0mfeature_selection\u001b[0m \u001b[0;32mimport\u001b[0m \u001b[0mchi2\u001b[0m\u001b[0;34m\u001b[0m\u001b[0m\n\u001b[0;32m---> 13\u001b[0;31m \u001b[0;32mimport\u001b[0m \u001b[0mregressors\u001b[0m\u001b[0;34m\u001b[0m\u001b[0m\n\u001b[0m",
      "\u001b[0;31mImportError\u001b[0m: No module named regressors"
     ]
    }
   ],
   "source": [
    "import pandas as pd\n",
    "import numpy as np\n",
    "import matplotlib\n",
    "import matplotlib.pyplot as plt\n",
    "%matplotlib inline\n",
    "import seaborn\n",
    "import scipy.stats as stats\n",
    "from scipy.stats import norm\n",
    "from sklearn.ensemble import ExtraTreesClassifier\n",
    "from sklearn import preprocessing\n",
    "from sklearn.feature_selection import SelectKBest\n",
    "from sklearn.feature_selection import chi2\n",
    "import regressors"
   ]
  },
  {
   "cell_type": "code",
   "execution_count": null,
   "metadata": {
    "collapsed": true
   },
   "outputs": [],
   "source": [
    "from sklearn.linear_model import LinearRegression, Lasso, Ridge, RidgeCV,LassoCV\n",
    "from sklearn.model_selection import cross_val_score\n",
    "\n",
    "\n",
    "Lin_Reg = LinearRegression()\n",
    "Lasso_Reg = Lasso()\n",
    "LassoCV_Reg = LassoCV(alphas = [ .001*i for i in range(1000)])\n",
    "RidgeCV_Reg = RidgeCV()\n",
    "Ridge_Reg = Ridge()\n",
    "#http://scikit-learn.org/stable/modules/generated/sklearn.linear_model.Lasso.html\n",
    "#http://scikit-learn.org/stable/modules/generated/sklearn.linear_model.LassoCV.html\n",
    "#http://scikit-learn.org/stable/modules/generated/sklearn.linear_model.Ridge.html\n",
    "#http://scikit-learn.org/stable/modules/generated/sklearn.linear_model.RidgeCV.html\n",
    "#http://scikit-learn.org/stable/modules/linear_model.html"
   ]
  },
  {
   "cell_type": "code",
   "execution_count": null,
   "metadata": {
    "collapsed": false
   },
   "outputs": [],
   "source": [
    "train = pd.read_csv(\"train.csv\")\n",
    "test = pd.read_csv(\"test.csv\")\n",
    "del train['Id']\n"
   ]
  },
  {
   "cell_type": "markdown",
   "metadata": {},
   "source": [
    "## Need a list of categorical features"
   ]
  },
  {
   "cell_type": "code",
   "execution_count": null,
   "metadata": {
    "collapsed": true
   },
   "outputs": [],
   "source": [
    "categorical = ['MSSubClass', 'MSZoning', 'Street','Alley', \n",
    "'LotShape', 'LandContour', 'Utilities', 'LotConfig', 'LandSlope',\n",
    "'Neighborhood', 'Condition1', 'Condition2', 'BldgType',\n",
    "'HouseStyle','OverallQual','OverallCond',\n",
    "'RoofStyle','RoofMatl','Exterior1st','Exterior2nd','MasVnrType',\n",
    "'ExterQual','ExterCond','Foundation','BsmtQual','BsmtCond',\n",
    "'BsmtExposure','BsmtFinType1','BsmtFinType2',\n",
    "'Heating','HeatingQC','CentralAir','Electrical','KitchenQual',\n",
    "'Functional','FireplaceQu','GarageType',\n",
    "'GarageFinish','GarageQual','PavedDrive',\n",
    "'Fence','MiscFeature','SaleType','SaleCondition']"
   ]
  },
  {
   "cell_type": "markdown",
   "metadata": {},
   "source": [
    "## Model evaluation uses RMSE of the log of the predicted value and log of the observed value. Using the logs means that errors in predicting expensive houses and cheap houses will affect the result equally."
   ]
  },
  {
   "cell_type": "code",
   "execution_count": null,
   "metadata": {
    "collapsed": true
   },
   "outputs": [],
   "source": [
    "def NormRMSE(observed, predicted):\n",
    "    return np.sqrt(((predicted - observed)** 2).mean())\n",
    "def LogRMSE(observed, predicted):\n",
    "    return np.sqrt(((np.log(1+predicted) - np.log(1+observed))** 2).mean())"
   ]
  },
  {
   "cell_type": "markdown",
   "metadata": {},
   "source": [
    "## Cross validation using k-folds for model evaluation"
   ]
  },
  {
   "cell_type": "code",
   "execution_count": null,
   "metadata": {
    "collapsed": true
   },
   "outputs": [],
   "source": [
    "from sklearn.model_selection import KFold\n",
    "\n",
    "def CV(data,model,k):\n",
    "    RMSE = []\n",
    "    #set number of folds\n",
    "    kf = KFold(n_splits=k, shuffle=True)\n",
    "    #X=features, y=sale price\n",
    "    X = data.copy()\n",
    "\n",
    "    y = X.SalePrice\n",
    "    del X['SalePrice']\n",
    "\n",
    "    X = X.values\n",
    "\n",
    "    #for each fold\n",
    "    for train_index, test_index in kf.split(X):\n",
    "        X_train, X_test = X[train_index, :], X[test_index, :]\n",
    "        y_train, y_test = y[train_index], y[test_index]\n",
    "        #fit the model\n",
    "        model.fit(X_train, y_train)\n",
    "        #predict values\n",
    "        y_predictions = model.predict(X_test)\n",
    "\n",
    "        #evaluate using RMSE (we did a log transformation of sale price later on so regular RMSE is correct)\n",
    "        RMSE.append(NormRMSE(y_test, y_predictions))\n",
    "    return np.mean(RMSE)"
   ]
  },
  {
   "cell_type": "markdown",
   "metadata": {},
   "source": [
    "### Lets see how our features relate to eachother"
   ]
  },
  {
   "cell_type": "code",
   "execution_count": null,
   "metadata": {
    "collapsed": false,
    "scrolled": false
   },
   "outputs": [],
   "source": [
    "correlation_mx = train.corr()\n",
    "f, ax = plt.subplots(figsize=(12, 9))\n",
    "\n",
    "seaborn.heatmap(correlation_mx, vmax=1, square=True,cmap='BrBG');\n",
    "plt.savefig('Feature_Correlation_No_Values.png', dpi=320)\n"
   ]
  },
  {
   "cell_type": "code",
   "execution_count": null,
   "metadata": {
    "collapsed": false
   },
   "outputs": [],
   "source": [
    "plt.figure(figsize=(24, 18))\n",
    "\n",
    "seaborn.heatmap(correlation_mx, vmax=.8, linewidths=0.01,cmap='BrBG',\n",
    "            square=True,annot=True,linecolor=\"white\")\n",
    "plt.title('Feature Correlation',size=20);\n",
    "matplotlib.rcParams['font.weight']=('bold')    # bold fonts are easier to see\n",
    "matplotlib.rcParams['ytick.labelsize']=(16)   # tick labels bigger\n",
    "matplotlib.rcParams['xtick.labelsize']=(16)   # tick labels bigger\n",
    "plt.tight_layout()\n",
    "plt.savefig('Feature_Correlation.png', dpi=320)\n"
   ]
  },
  {
   "cell_type": "markdown",
   "metadata": {},
   "source": [
    "## Problem of Multicolinearity (variables correlated to eachother in addition to sale price) making it difficult to interpret models."
   ]
  },
  {
   "cell_type": "code",
   "execution_count": null,
   "metadata": {
    "collapsed": false,
    "scrolled": true
   },
   "outputs": [],
   "source": [
    "sale_correlation = train.corr()[\"SalePrice\"]\n",
    "sale_correlation[np.argsort(sale_correlation, axis=0)]"
   ]
  },
  {
   "cell_type": "code",
   "execution_count": null,
   "metadata": {
    "collapsed": false
   },
   "outputs": [],
   "source": [
    "sale_correlation = train.corr()[\"SalePrice\"]\n",
    "\n",
    "sale_correlation = sale_correlation[np.argsort(sale_correlation, axis=0)]\n",
    "feature = []\n",
    "value = []\n",
    "for i in range(len(sale_correlation)):\n",
    "    feature.append(sale_correlation.index[i])\n",
    "    value.append(sale_correlation[i])\n",
    "\n",
    "y_pos = np.arange(len(feature)) \n",
    "plt.barh(y_pos, value, align='center')\n",
    "plt.xlim([ -.2,1])\n",
    "\n",
    "plt.yticks(y_pos, feature)\n",
    "plt.xticks()\n",
    "plt.xlabel('Correlation Coefficient',size=20)\n",
    "plt.ylabel(\"Feature\",size=20)\n",
    "plt.title('Correlation With Sale Price',size=20)\n",
    "fig = plt.gcf()\n",
    "fig.set_size_inches(9, 12)\n",
    "matplotlib.rcParams['font.weight']=('bold')    # bold fonts are easier to see\n",
    "matplotlib.rcParams['ytick.labelsize']=(12)   # tick labels bigger\n",
    "matplotlib.rcParams['xtick.labelsize']=(12)   # tick labels bigger\n",
    "plt.tight_layout()\n",
    "\n",
    "plt.tight_layout()\n",
    "\n",
    "plt.savefig('Sale_Correlation.png', dpi=320)\n",
    "\n",
    "plt.show()"
   ]
  },
  {
   "cell_type": "code",
   "execution_count": null,
   "metadata": {
    "collapsed": false
   },
   "outputs": [],
   "source": [
    "fig, axs = plt.subplots(ncols=3,nrows=2, figsize=(24,12))\n",
    "seaborn.regplot(x='OverallQual', y='SalePrice', data=train, ax=axs[0,0])\n",
    "plt.rcParams['ytick.labelsize']=(12)   # tick labels bigger\n",
    "plt.rcParams['xtick.labelsize']=(12)   # tick labels bigger\n",
    "plt.rcParams['axes.labelsize']=(24)   # tick labels bigger\n",
    "seaborn.regplot(x='GrLivArea', y='SalePrice', data=train, ax=axs[0,1],color='green')\n",
    "seaborn.regplot(x='GarageCars',y='SalePrice', data=train, ax=axs[0,2],truncate=True,color='red')\n",
    "seaborn.regplot(x='TotalBsmtSF', y='SalePrice', data=train, ax=axs[1,0],color='purple')\n",
    "seaborn.regplot(x='FullBath', y='SalePrice', data=train, ax=axs[1,1],color='gold')\n",
    "seaborn.regplot(x='YearBuilt', y='SalePrice', data=train, ax=axs[1,2],color='orange')\n",
    "\n",
    "axs[1,2].set_xlim(train['YearBuilt'].min(),train['YearBuilt'].max())\n",
    "axs[1,2].set_ylim(train['SalePrice'].min(),train['SalePrice'].max())\n",
    "\n",
    "\n",
    "plt.tight_layout()\n",
    "plt.savefig('Correlated_Scatter_Plots.png', dpi=320)\n",
    "\n",
    "plt.show()\n",
    "\n"
   ]
  },
  {
   "cell_type": "code",
   "execution_count": null,
   "metadata": {
    "collapsed": false
   },
   "outputs": [],
   "source": [
    "seaborn.boxplot(train['OverallQual'],train['SalePrice'])\n",
    "plt.title('SalePrice vs Overall Quality',size=14)\n",
    "matplotlib.rcParams['axes.labelsize']=(12)   # tick labels bigger\n",
    "fig = plt.gcf()\n",
    "\n",
    "fig.set_size_inches(16, 6)\n",
    "plt.tight_layout()\n",
    "\n",
    "plt.savefig('Boxplots_OverallQual.png', dpi=320)\n",
    "\n",
    "plt.show()"
   ]
  },
  {
   "cell_type": "markdown",
   "metadata": {},
   "source": [
    "### We can see 4 huge outliers in GrLivArea vs SalePrice\n",
    "#### Two of them are 7 standard deviations above the mean but they fit the trend well.\n",
    "#### Two are much lower than the trend so we will inspect them\n"
   ]
  },
  {
   "cell_type": "code",
   "execution_count": null,
   "metadata": {
    "collapsed": false
   },
   "outputs": [],
   "source": [
    "outliers = train[train['GrLivArea'] > 4500]\n",
    "outliers.describe()\n",
    "outliers_index = train[train['GrLivArea'] > 4500].index"
   ]
  },
  {
   "cell_type": "markdown",
   "metadata": {},
   "source": [
    "### Both of these properties are massive, one has a pool, both have high MasVnrArea, are newly built, and have overall quality of 10. We should look through all our features to see if we can determine why these houses sold for so little.\n",
    "    Both are irregularly shaped\n",
    "    Both are in Edwards (lower cost neighborhood)\n",
    "    Both have large Stone veener (expensive)\n",
    "    Both have large square footage and lot areas\n",
    "    Both are high quality\n",
    "    Both have excellent bsmt quality with high bsmt exposure\n",
    "    Both have excellent external quality\n",
    "    Both have more than 11 rooms above grade...\n",
    "#### I was hoping that these outliers could be explained by the sale type, possibly a house sold to a family member. However, both of these homes were sold as new and appear to be magnificient. Since none of the variables can explain these homes, both tree and regression models will be severely inaccurate at handling these. We may have to remove them from our model. I would suggest a supervised prediction from the user when properties such as these are detected."
   ]
  },
  {
   "cell_type": "code",
   "execution_count": null,
   "metadata": {
    "collapsed": false
   },
   "outputs": [],
   "source": [
    "with pd.option_context('display.max_rows', 1000, 'display.max_columns', 1000):\n",
    "    print outliers\n",
    "outliers = train[train['GrLivArea'] > 4500]\n",
    "outliers.describe()\n",
    "outliers_index = train[train['GrLivArea'] > 4500].index\n",
    "train = train.drop(train.index[[outliers_index]])\n"
   ]
  },
  {
   "cell_type": "code",
   "execution_count": null,
   "metadata": {
    "collapsed": false
   },
   "outputs": [],
   "source": [
    "fig, axs = plt.subplots(ncols=3,nrows=2, figsize=(24,12))\n",
    "seaborn.regplot(x='OverallQual', y='SalePrice', data=train, ax=axs[0,0])\n",
    "plt.rcParams['ytick.labelsize']=(12)   # tick labels bigger\n",
    "plt.rcParams['xtick.labelsize']=(12)   # tick labels bigger\n",
    "plt.rcParams['axes.labelsize']=(24)   # tick labels bigger\n",
    "seaborn.regplot(x='GrLivArea', y='SalePrice', data=train, ax=axs[0,1],color='green')\n",
    "seaborn.regplot(x='GarageCars',y='SalePrice', data=train, ax=axs[0,2],truncate=True,color='red')\n",
    "seaborn.regplot(x='TotalBsmtSF', y='SalePrice', data=train, ax=axs[1,0],color='purple')\n",
    "seaborn.regplot(x='FullBath', y='SalePrice', data=train, ax=axs[1,1],color='gold')\n",
    "seaborn.regplot(x='YearBuilt', y='SalePrice', data=train, ax=axs[1,2],color='orange')\n",
    "\n",
    "axs[1,2].set_xlim(train['YearBuilt'].min(),train['YearBuilt'].max())\n",
    "axs[1,2].set_ylim(train['SalePrice'].min(),train['SalePrice'].max())\n",
    "\n",
    "\n",
    "plt.tight_layout()\n",
    "plt.savefig('Correlated_Scatter_Plots2.png', dpi=320)\n",
    "\n",
    "plt.show()\n",
    "\n"
   ]
  },
  {
   "cell_type": "code",
   "execution_count": null,
   "metadata": {
    "collapsed": false
   },
   "outputs": [],
   "source": [
    "fig, axs = plt.subplots(ncols=3, figsize=(12,6))\n",
    "seaborn.regplot(x='YearBuilt', y='GarageYrBlt', data=train, ax=axs[0])\n",
    "seaborn.regplot(x='GarageCars', y='GarageArea', data=train, ax=axs[1])\n",
    "seaborn.regplot(x='TotRmsAbvGrd',y='GrLivArea', data=train, ax=axs[2],truncate=True)\n",
    "axs[2].set_xlim(1,15)\n",
    "\n",
    "plt.tight_layout()\n",
    "plt.savefig('Correlated_Features_Example.png', dpi=320)\n",
    "\n",
    "plt.show()"
   ]
  },
  {
   "cell_type": "code",
   "execution_count": null,
   "metadata": {
    "collapsed": false
   },
   "outputs": [],
   "source": [
    "seaborn.set(style=\"ticks\")\n",
    "seaborn.lmplot(x=\"GrLivArea\", y='SalePrice', hue='Neighborhood', data=train)\n",
    "plt.ylim(0,750000)\n",
    "plt.title('SalePrice vs GrLivArea per Neighborhood',size=12)\n",
    "matplotlib.rcParams['font.weight']=('bold')    # bold fonts are easier to see\n",
    "matplotlib.rcParams['ytick.labelsize']=(16)   # tick labels bigger\n",
    "matplotlib.rcParams['xtick.labelsize']=(16)   # tick labels bigger\n",
    "fig = plt.gcf()\n",
    "\n",
    "fig.set_size_inches(14, 6)\n",
    "plt.tight_layout()\n",
    "\n",
    "plt.savefig('RegPlot_SalePrice_GrLivArea_Neighborhoods.png', dpi=320)\n",
    "\n",
    "plt.show()"
   ]
  },
  {
   "cell_type": "code",
   "execution_count": null,
   "metadata": {
    "collapsed": false,
    "scrolled": false
   },
   "outputs": [],
   "source": [
    "g = seaborn.lmplot(x=\"GrLivArea\", y=\"SalePrice\", col=\"Neighborhood\", hue=\"Neighborhood\",\n",
    "         data=train, col_wrap=5, size=5)\n",
    "g.set(ylim=(0,750000))"
   ]
  },
  {
   "cell_type": "code",
   "execution_count": null,
   "metadata": {
    "collapsed": false
   },
   "outputs": [],
   "source": [
    "neighborhood_medians = train['SalePrice'].groupby(train['Neighborhood']).median()\n",
    "neighborhood_sorted = neighborhood_medians.sort_values()\n",
    "neighborhood_names_sorted = list(neighborhood_sorted.index)\n",
    "\n",
    "fig, (ax1,ax2) = plt.subplots(2, figsize=(16,12))\n",
    "matplotlib.rcParams['axes.labelsize']=(18)   # tick labels bigger\n",
    "\n",
    "seaborn.boxplot('Neighborhood','SalePrice', data=train,ax=ax1,order=neighborhood_names_sorted)\n",
    "seaborn.countplot(x=\"Neighborhood\", data=train,ax=ax2,order=neighborhood_names_sorted)\n",
    "for ax in fig.axes:\n",
    "    plt.sca(ax)\n",
    "    plt.xticks(rotation=90)\n",
    "\n",
    "    \n",
    "plt.tight_layout()\n",
    "\n",
    "plt.savefig('BoxPlots_Neighborhood.png', dpi=320)\n",
    "\n",
    "plt.show()\n",
    "\n",
    "\n"
   ]
  },
  {
   "cell_type": "code",
   "execution_count": null,
   "metadata": {
    "collapsed": false,
    "scrolled": false
   },
   "outputs": [],
   "source": [
    "seaborn.factorplot(x=\"OverallQual\", y=\"SalePrice\", col=\"Neighborhood\", hue=\"Neighborhood\",\n",
    "         data=train, col_wrap=5, size=4)"
   ]
  },
  {
   "cell_type": "code",
   "execution_count": null,
   "metadata": {
    "collapsed": false
   },
   "outputs": [],
   "source": [
    "fig, (ax1,ax2) = plt.subplots(2, figsize=(8,12))\n",
    "seaborn.boxplot('LotShape','SalePrice', data=train,ax=ax1)\n",
    "seaborn.countplot(x=\"LotShape\", data=train,ax=ax2)\n",
    "for ax in fig.axes:\n",
    "    plt.sca(ax)\n",
    "    plt.xticks(rotation=90)\n",
    "plt.show()\n"
   ]
  },
  {
   "cell_type": "code",
   "execution_count": null,
   "metadata": {
    "collapsed": false
   },
   "outputs": [],
   "source": [
    "seaborn.boxplot(train['OverallQual'],train['SalePrice'])\n",
    "plt.title('SalePrice vs Overall Quality',size=14)\n",
    "matplotlib.rcParams['axes.labelsize']=(12)   # tick labels bigger\n",
    "fig = plt.gcf()\n",
    "\n",
    "fig.set_size_inches(16, 6)\n",
    "plt.tight_layout()\n",
    "\n",
    "plt.savefig('Boxplots_OverallQual.png', dpi=320)\n",
    "\n",
    "plt.show()"
   ]
  },
  {
   "cell_type": "code",
   "execution_count": null,
   "metadata": {
    "collapsed": true
   },
   "outputs": [],
   "source": []
  },
  {
   "cell_type": "code",
   "execution_count": null,
   "metadata": {
    "collapsed": false
   },
   "outputs": [],
   "source": [
    "seaborn.boxplot(train['ExterQual'],train['SalePrice'])\n"
   ]
  },
  {
   "cell_type": "code",
   "execution_count": null,
   "metadata": {
    "collapsed": false
   },
   "outputs": [],
   "source": [
    "seaborn.boxplot(train['MoSold'],train['SalePrice'])\n"
   ]
  },
  {
   "cell_type": "code",
   "execution_count": null,
   "metadata": {
    "collapsed": false,
    "scrolled": false
   },
   "outputs": [],
   "source": [
    "seaborn.boxplot(train['OverallCond'],train['SalePrice'])\n"
   ]
  },
  {
   "cell_type": "code",
   "execution_count": null,
   "metadata": {
    "collapsed": false
   },
   "outputs": [],
   "source": [
    "seaborn.boxplot(train['YearBuilt'],train['SalePrice'])\n",
    "plt.xticks(rotation=90)\n",
    "plt.title('SalePrice vs Year Built',size=14)\n",
    "plt.rcParams['font.weight']=('normal')    # bold fonts are easier to see\n",
    "plt.rcParams['axes.labelsize']=(12)   # tick labels bigger\n",
    "\n",
    "plt.rcParams['ytick.labelsize']=(12)   # tick labels bigger\n",
    "\n",
    "plt.rcParams['xtick.labelsize']=(12)   # tick labels bigger\n",
    "\n",
    "fig = plt.gcf()\n",
    "\n",
    "fig.set_size_inches(18, 6)\n",
    "plt.tight_layout()\n",
    "\n",
    "plt.savefig('Boxplots_YearBuilt.png', dpi=320)\n",
    "\n",
    "plt.show()"
   ]
  },
  {
   "cell_type": "code",
   "execution_count": null,
   "metadata": {
    "collapsed": false
   },
   "outputs": [],
   "source": [
    "fig, ax = plt.subplots(figsize=(16, 8))\n",
    "fig = seaborn.regplot(train['YearBuilt'],train['SalePrice'])\n",
    "plt.xticks(rotation=90)\n",
    "plt.title('SalePrice vs Year Built',size=14)\n",
    "plt.rcParams['font.weight']=('normal')    # bold fonts are easier to see\n",
    "plt.rcParams['axes.labelsize']=(12)   # tick labels bigger\n",
    "\n",
    "plt.rcParams['ytick.labelsize']=(12)   # tick labels bigger\n",
    "\n",
    "plt.rcParams['xtick.labelsize']=(12)   # tick labels bigger\n",
    "\n",
    "fig = plt.gcf()\n",
    "\n",
    "fig.set_size_inches(18, 6)\n",
    "plt.tight_layout()\n",
    "\n",
    "plt.savefig('RegPlot_YearBuilt.png', dpi=320)\n",
    "\n",
    "plt.show()"
   ]
  },
  {
   "cell_type": "markdown",
   "metadata": {},
   "source": [
    "## Dealing with null values"
   ]
  },
  {
   "cell_type": "code",
   "execution_count": null,
   "metadata": {
    "collapsed": false
   },
   "outputs": [],
   "source": [
    "def check_null(data):\n",
    "    null_check = data.isnull()\n",
    "    null_counts = null_check.sum()\n",
    "    total_counts = null_check.count()\n",
    "    percent_null = null_counts/total_counts\n",
    "    percent_null.sort(ascending=False, inplace=True)\n",
    "    print(percent_null[percent_null>0])\n",
    "check_null(train)"
   ]
  },
  {
   "cell_type": "markdown",
   "metadata": {},
   "source": [
    "## Replacing null with \"None\" based on description of data:\n",
    "    Alley\n",
    "    BsmtQual\n",
    "    BsmtCond\n",
    "    BsmtExposure\n",
    "    BsmtFinType1\n",
    "    BsmtFinType2\n",
    "    FireplaceQu\n",
    "    GarageType\n",
    "    GarageFinish\n",
    "    GarageQual\n",
    "    GarageCond\n",
    "    PoolQC\n",
    "    Fence\n",
    "    MiscFeature\n"
   ]
  },
  {
   "cell_type": "code",
   "execution_count": null,
   "metadata": {
    "collapsed": false
   },
   "outputs": [],
   "source": [
    "replace_with_none = ['Alley',\n",
    "                    'BsmtQual',\n",
    "                     'BsmtCond',\n",
    "                     'BsmtExposure',\n",
    "                     'BsmtFinType1',\n",
    "                     'BsmtFinType2',\n",
    "                     'FireplaceQu',\n",
    "                     'GarageType',\n",
    "                     'GarageFinish',\n",
    "                     'GarageQual',\n",
    "                     'GarageCond',\n",
    "                     'PoolQC',\n",
    "                     'Fence',\n",
    "                     'MiscFeature']\n",
    "\n",
    "train[replace_with_none] = train[replace_with_none].fillna('None')"
   ]
  },
  {
   "cell_type": "code",
   "execution_count": null,
   "metadata": {
    "collapsed": false
   },
   "outputs": [],
   "source": [
    "check_null(train)"
   ]
  },
  {
   "cell_type": "markdown",
   "metadata": {},
   "source": [
    "## Much better! Only 5 features with null values now.\n",
    "## With only 1 null element in electrical we can probably replace it with the median"
   ]
  },
  {
   "cell_type": "code",
   "execution_count": null,
   "metadata": {
    "collapsed": false
   },
   "outputs": [],
   "source": [
    "train['Electrical'] = train['Electrical'].fillna(train['Electrical'].value_counts().idxmax())"
   ]
  },
  {
   "cell_type": "code",
   "execution_count": null,
   "metadata": {
    "collapsed": false
   },
   "outputs": [],
   "source": [
    "check_null(train)"
   ]
  },
  {
   "cell_type": "markdown",
   "metadata": {},
   "source": [
    "## Checking the MasVnrType/Area null entries"
   ]
  },
  {
   "cell_type": "code",
   "execution_count": null,
   "metadata": {
    "collapsed": false
   },
   "outputs": [],
   "source": [
    "with pd.option_context('display.max_rows', None, 'display.max_columns', 1000):\n",
    "    print train[train['MasVnrType'].isnull()]"
   ]
  },
  {
   "cell_type": "markdown",
   "metadata": {},
   "source": [
    "## Nothing seems out of the ordinary with the 8 properties, so lets replace the missing values with the median"
   ]
  },
  {
   "cell_type": "code",
   "execution_count": null,
   "metadata": {
    "collapsed": false
   },
   "outputs": [],
   "source": [
    "train['MasVnrType'] = train['MasVnrType'].fillna(train['MasVnrType'].value_counts().idxmax())\n",
    "train['MasVnrArea'] = train['MasVnrArea'].fillna(train['MasVnrArea'].mean())\n"
   ]
  },
  {
   "cell_type": "code",
   "execution_count": null,
   "metadata": {
    "collapsed": false
   },
   "outputs": [],
   "source": [
    "check_null(train)"
   ]
  },
  {
   "cell_type": "markdown",
   "metadata": {},
   "source": [
    "## Replace a few values with mean"
   ]
  },
  {
   "cell_type": "code",
   "execution_count": null,
   "metadata": {
    "collapsed": false
   },
   "outputs": [],
   "source": [
    "train['GarageYrBlt'] = train['GarageYrBlt'].fillna(train['GarageYrBlt'].mean())"
   ]
  },
  {
   "cell_type": "markdown",
   "metadata": {},
   "source": [
    "## Lot frontage seems to be correlated with sales price so we want to keep it. 17% missing data is a lot though"
   ]
  },
  {
   "cell_type": "code",
   "execution_count": null,
   "metadata": {
    "collapsed": false
   },
   "outputs": [],
   "source": [
    "print(train[train['LotFrontage'].isnull()]['SalePrice'].mean())\n",
    "print(train['SalePrice'].mean())"
   ]
  },
  {
   "cell_type": "markdown",
   "metadata": {},
   "source": [
    "## The properties with null LotFrontage seem to have identical mean to the total sample. This might be a good place to replace with mean value"
   ]
  },
  {
   "cell_type": "code",
   "execution_count": null,
   "metadata": {
    "collapsed": false
   },
   "outputs": [],
   "source": [
    "train['LotFrontage'] = train['LotFrontage'].fillna(train['LotFrontage'].mean())\n",
    "check_null(train)"
   ]
  },
  {
   "cell_type": "markdown",
   "metadata": {},
   "source": [
    "#### Lets look at \"all the things\" (categorically)"
   ]
  },
  {
   "cell_type": "code",
   "execution_count": null,
   "metadata": {
    "collapsed": false,
    "scrolled": true
   },
   "outputs": [],
   "source": [
    "for category in categorical:\n",
    "    medians = train['SalePrice'].groupby(train[category]).median()\n",
    "    sort = medians.sort_values()\n",
    "    names_sorted = list(sort.index)\n",
    "\n",
    "    fig, (ax1,ax2) = plt.subplots(2, figsize=(12,9))\n",
    "    seaborn.boxplot(category,'SalePrice', data=train,ax=ax1,order=names_sorted)\n",
    "    seaborn.countplot(x=category, data=train,ax=ax2,order=names_sorted)\n",
    "    for ax in fig.axes:\n",
    "        plt.sca(ax)\n",
    "        plt.xticks(rotation=90)\n",
    "        plt.title(category)\n",
    "    plt.show()\n",
    "\n"
   ]
  },
  {
   "cell_type": "code",
   "execution_count": null,
   "metadata": {
    "collapsed": false,
    "scrolled": false
   },
   "outputs": [],
   "source": [
    "fig, axs = plt.subplots(nrows=3,ncols=1,figsize=(12,12))\n",
    "seaborn.regplot(x='Fireplaces', y='SalePrice', data=train, ax=axs[0])\n",
    "medians = train['SalePrice'].groupby(train['FireplaceQu']).median()\n",
    "sort = medians.sort_values()\n",
    "names_sorted = list(sort.index)\n",
    "seaborn.boxplot(x='FireplaceQu', y='SalePrice', data=train, order=names_sorted,ax=axs[1])\n",
    "seaborn.pointplot(x='Fireplaces',y='SalePrice',hue='FireplaceQu',data=train,ax=axs[2])\n",
    "\n",
    "\n",
    "#matplotlib.rcParams['font.weight']=('bold')    # bold fonts are easier to see\n",
    "#matplotlib.rcParams['ytick.labelsize']=(16)   # tick labels bigger\n",
    "#matplotlib.rcParams['xtick.labelsize']=(16)   # tick labels bigger\n",
    "#matplotlib.rcParams['axes.labelsize']=(24)   # tick labels bigger\n",
    "plt.tight_layout()\n",
    "\n",
    "plt.savefig('SalePrice_Fireplaces.png', dpi=320)\n"
   ]
  },
  {
   "cell_type": "markdown",
   "metadata": {},
   "source": [
    "## Replacing categorical variables with binary features (dummies)"
   ]
  },
  {
   "cell_type": "code",
   "execution_count": null,
   "metadata": {
    "collapsed": false
   },
   "outputs": [],
   "source": [
    "train.to_csv(\"new_training_data.csv\")\n",
    "train = pd.read_csv(\"new_training_data.csv\")\n",
    "no_dummies = train.copy()\n",
    "no_dummies.to_csv(\"no_dummies.csv\")\n",
    "train = pd.get_dummies(train)\n"
   ]
  },
  {
   "cell_type": "markdown",
   "metadata": {},
   "source": [
    "## Checking out correlation to sales price with included categorical features.\n",
    "\n",
    "### Notice how features like RoofMatl_ClyTile have low correlation; yet, they have a huge impact on our Lasso model. This is definitely an unbalanced variable."
   ]
  },
  {
   "cell_type": "code",
   "execution_count": null,
   "metadata": {
    "collapsed": false,
    "scrolled": true
   },
   "outputs": [],
   "source": [
    "sale_correlation = train.corr()['SalePrice']\n",
    "with pd.option_context('display.max_rows', None, 'display.max_columns', 1000):\n",
    "    print sale_correlation[np.argsort(sale_correlation, axis=0)]"
   ]
  },
  {
   "cell_type": "code",
   "execution_count": null,
   "metadata": {
    "collapsed": false
   },
   "outputs": [],
   "source": []
  },
  {
   "cell_type": "code",
   "execution_count": null,
   "metadata": {
    "collapsed": false
   },
   "outputs": [],
   "source": [
    "def check_sparsity(data):\n",
    "    sparseness = data[data[list(data.columns.values)]==0].count()/len(data)\n",
    "    with pd.option_context('display.max_rows', None, 'display.max_columns', 1000):\n",
    "        print sparseness[np.argsort(sparseness, axis=0)]\n",
    "check_sparsity(train)"
   ]
  },
  {
   "cell_type": "markdown",
   "metadata": {},
   "source": [
    "## Lets try variables with highest correlation"
   ]
  },
  {
   "cell_type": "code",
   "execution_count": null,
   "metadata": {
    "collapsed": false
   },
   "outputs": [],
   "source": [
    "sale_correlation[np.argsort(sale_correlation, axis=0)]\n",
    "highly_correlated = []\n",
    "for i in range(len(sale_correlation)):\n",
    "    if sale_correlation[i] > .5 or sale_correlation[i] < -.2:\n",
    "        highly_correlated.append(sale_correlation.index[i])\n",
    "highly_correlated\n",
    "correlated_train = train[[col for col in highly_correlated]].copy()"
   ]
  },
  {
   "cell_type": "markdown",
   "metadata": {},
   "source": [
    "#### Using log +1 transformation on many of the features because of high skewness"
   ]
  },
  {
   "cell_type": "code",
   "execution_count": null,
   "metadata": {
    "collapsed": false
   },
   "outputs": [],
   "source": [
    "fig, axs = plt.subplots(2,2, figsize=(12,6))\n",
    "\n",
    "seaborn.set_style(\"whitegrid\")\n",
    "g = seaborn.distplot(train['SalePrice'],fit=norm,ax=axs[0,0])\n",
    "g.set_title(\"%s Distribution\" % 'SalePrice')\n",
    "\n",
    "\n",
    "stats.probplot(train['SalePrice'], dist='norm', plot=axs[0,1])\n",
    "#axs[0,1].set_title(\"Normal QQ-Plot of Grade Living Area\")\n",
    "\n",
    "train['SalePrice'] = np.log1p(train['SalePrice'])\n",
    "\n",
    "g = seaborn.distplot(train['SalePrice'],fit=norm, ax=axs[1,0])\n",
    "g.set_title(\"Log(%s) Distribution\" % 'SalePrice')\n",
    "\n",
    "stats.probplot(train['SalePrice'], dist='norm', plot=axs[1,1])\n",
    "\n",
    "plt.tight_layout()\n",
    "plt.savefig(\"Sale Price Log Transformation\")\n",
    "plt.show()"
   ]
  },
  {
   "cell_type": "markdown",
   "metadata": {
    "collapsed": false
   },
   "source": [
    "### Ridge seems to perform as well as Lasso, with less effort computationally because it responds better to multicolinearity "
   ]
  },
  {
   "cell_type": "code",
   "execution_count": null,
   "metadata": {
    "collapsed": false
   },
   "outputs": [],
   "source": [
    "\n",
    "RMSE = CV(train,Lin_Reg,5)\n",
    "print(RMSE)\n",
    "\n",
    "RMSE = CV(train,RidgeCV_Reg,5)\n",
    "print(RMSE)\n",
    "\n",
    "RMSE = CV(train,LassoCV_Reg,5)\n",
    "print(RMSE)"
   ]
  },
  {
   "cell_type": "code",
   "execution_count": null,
   "metadata": {
    "collapsed": true
   },
   "outputs": [],
   "source": []
  },
  {
   "cell_type": "code",
   "execution_count": null,
   "metadata": {
    "collapsed": false
   },
   "outputs": [],
   "source": [
    "numerical_features = [key for key in dict(no_dummies.dtypes) if dict(no_dummies.dtypes)[key] in ['float64', 'int64']]\n",
    "skewed_features = []\n",
    "for feature in numerical_features:\n",
    "    if abs(train[feature].skew()) > .8:\n",
    "        skewed_features.append(feature)\n",
    "        "
   ]
  },
  {
   "cell_type": "code",
   "execution_count": null,
   "metadata": {
    "collapsed": false
   },
   "outputs": [],
   "source": [
    "skewed_features"
   ]
  },
  {
   "cell_type": "code",
   "execution_count": null,
   "metadata": {
    "collapsed": false,
    "scrolled": true
   },
   "outputs": [],
   "source": [
    "transformed_train = train.copy()\n",
    "for feature in skewed_features:\n",
    "    fig, axs = plt.subplots(2,2, figsize=(12,6))\n",
    "\n",
    "    seaborn.set_style(\"whitegrid\")\n",
    "    g = seaborn.distplot(transformed_train[feature],fit=norm,ax=axs[0,0])\n",
    "    g.set_title(\"%s Distribution\" % feature)\n",
    "\n",
    "\n",
    "    stats.probplot(transformed_train[feature], dist='norm', plot=axs[0,1])\n",
    "    #axs[0,1].set_title(\"Normal QQ-Plot of Grade Living Area\")\n",
    "\n",
    "    transformed_train[feature] = np.log1p(transformed_train[feature])\n",
    "\n",
    "    g = seaborn.distplot(transformed_train[feature],fit=norm, ax=axs[1,0])\n",
    "    g.set_title(\"Log(%s) Distribution\" % feature)\n",
    "\n",
    "    stats.probplot(transformed_train[feature], dist='norm', plot=axs[1,1])\n",
    "    \n",
    "    plt.tight_layout()\n",
    "    plt.show()"
   ]
  },
  {
   "cell_type": "code",
   "execution_count": null,
   "metadata": {
    "collapsed": false
   },
   "outputs": [],
   "source": [
    "print(CV(train,Lin_Reg,5))\n",
    "\n",
    "\n",
    "print(CV(train,RidgeCV_Reg,5))\n",
    "\n",
    "\n",
    "print(CV(train,LassoCV_Reg,5))\n",
    "\n",
    "    "
   ]
  },
  {
   "cell_type": "markdown",
   "metadata": {},
   "source": [
    "#### Many of our variables had a large portion of their values as 0, and a log1p transformation will not affect those much\n",
    "    Through cross validation, I found that log transforming all the skewed variables yielded better results."
   ]
  },
  {
   "cell_type": "code",
   "execution_count": null,
   "metadata": {
    "collapsed": false
   },
   "outputs": [],
   "source": [
    "good_transformations = ['LotArea','GrLivArea','MSSubClass','1stFlrSF']\n",
    "\n",
    "for feature in skewed_features:\n",
    "    fig, axs = plt.subplots(2,2, figsize=(12,6))\n",
    "\n",
    "    seaborn.set_style(\"whitegrid\")\n",
    "    g = seaborn.distplot(train[feature],fit=norm,ax=axs[0,0])\n",
    "    g.set_title(\"%s Distribution\" % feature)\n",
    "\n",
    "\n",
    "    stats.probplot(train[feature], dist='norm', plot=axs[0,1])\n",
    "    #axs[0,1].set_title(\"Normal QQ-Plot of Grade Living Area\")\n",
    "\n",
    "    train[feature] = np.log1p(train[feature])\n",
    "\n",
    "    g = seaborn.distplot(train[feature],fit=norm, ax=axs[1,0])\n",
    "    g.set_title(\"Log(%s) Distribution\" % feature)\n",
    "\n",
    "    stats.probplot(train[feature], dist='norm', plot=axs[1,1])\n",
    "    \n",
    "    plt.tight_layout()\n",
    "    #plt.savefig(\"Log Transformation_%s\" % feature)\n",
    "    plt.show()"
   ]
  },
  {
   "cell_type": "code",
   "execution_count": null,
   "metadata": {
    "collapsed": false
   },
   "outputs": [],
   "source": [
    "\n",
    "print(CV(train,Lin_Reg,5))\n",
    "\n",
    "\n",
    "print(CV(train,RidgeCV_Reg,5))\n",
    "\n",
    "\n",
    "print(CV(train,LassoCV_Reg,5))\n",
    "\n",
    "    "
   ]
  },
  {
   "cell_type": "markdown",
   "metadata": {},
   "source": [
    "## The coefficients in Lasso are not interpretable because of multicolinearity. Features with high correlation are chosen arbitrarily based on alpha"
   ]
  },
  {
   "cell_type": "code",
   "execution_count": null,
   "metadata": {
    "collapsed": false
   },
   "outputs": [],
   "source": [
    "X = train.copy()\n",
    "\n",
    "y = X.SalePrice\n",
    "X = pd.DataFrame(preprocessing.scale(X), index = X.index, columns = X.columns) \n",
    "del X['SalePrice']\n",
    "LassoCV_Reg.fit(X,y)\n",
    "Lasso_Coefficients = pd.Series(LassoCV_Reg.coef_, index = X.columns)\n",
    "print(\"Eliminated: \" + str(sum(Lasso_Coefficients == 0)) + \". Used: \" +  str(sum(Lasso_Coefficients != 0)))\n",
    "Sorted_Coefficients = Lasso_Coefficients.sort_values()\n",
    "HighLow_Coefficients = pd.concat([Sorted_Coefficients.head(20),Sorted_Coefficients.tail(20)])\n",
    "\n",
    "    \n",
    "HighLow_Coefficients.plot(kind = \"barh\")\n",
    "fig = plt.gcf()\n",
    "\n",
    "fig.set_size_inches(9, 12)\n",
    "plt.title(\"Coefficients: Lasso Model\")\n",
    "plt.tight_layout()\n",
    "plt.savefig('Lasso_Normalized_Coefficients.png', dpi=320)\n"
   ]
  },
  {
   "cell_type": "code",
   "execution_count": null,
   "metadata": {
    "collapsed": false
   },
   "outputs": [],
   "source": []
  },
  {
   "cell_type": "code",
   "execution_count": null,
   "metadata": {
    "collapsed": false,
    "scrolled": true
   },
   "outputs": [],
   "source": [
    "ord_cat = ['ExterQual','ExterCond','BsmtCond','BsmtExposure','BsmtQual','BsmtFinType2','KitchenQual','FireplaceQu','GarageQual','GarageCond',\n",
    "          'PoolQC']\n",
    "\n",
    "for category in ord_cat:\n",
    "    medians = no_dummies['SalePrice'].groupby(no_dummies[category]).median()\n",
    "    sort = medians.sort_values()\n",
    "    names_sorted = list(sort.index)\n",
    "\n",
    "    fig, (ax1,ax2) = plt.subplots(2, figsize=(12,9))\n",
    "    seaborn.boxplot(category,'SalePrice', data=no_dummies,ax=ax1,order=names_sorted)\n",
    "    seaborn.countplot(x=category, data=no_dummies,ax=ax2,order=names_sorted)\n",
    "    for ax in fig.axes:\n",
    "        plt.sca(ax)\n",
    "        plt.xticks(rotation=90)\n",
    "        plt.title(category)\n",
    "    plt.show()\n",
    "\n"
   ]
  },
  {
   "cell_type": "code",
   "execution_count": null,
   "metadata": {
    "collapsed": false,
    "scrolled": false
   },
   "outputs": [],
   "source": [
    "RMSE = CV(train,Lin_Reg,5)\n",
    "print(RMSE)\n",
    "\n",
    "RMSE = CV(train,RidgeCV_Reg,5)\n",
    "print(RMSE)\n",
    "\n",
    "RMSE = CV(train,LassoCV_Reg,5)\n",
    "print(RMSE)\n",
    "    \n"
   ]
  },
  {
   "cell_type": "markdown",
   "metadata": {},
   "source": []
  },
  {
   "cell_type": "code",
   "execution_count": null,
   "metadata": {
    "collapsed": false
   },
   "outputs": [],
   "source": [
    "Ridge_RMSE = []\n",
    "for i in range(1):\n",
    "    Ridge_RMSE.append(CV(train,RidgeCV_Reg,len(train)))\n",
    "np.mean(Ridge_RMSE)"
   ]
  },
  {
   "cell_type": "code",
   "execution_count": null,
   "metadata": {
    "collapsed": false
   },
   "outputs": [],
   "source": [
    "Linear_RMSE = []\n",
    "for i in range(1):\n",
    "    Linear_RMSE.append(CV(train,Lin_Reg,len(train)))\n",
    "np.mean(Linear_RMSE)"
   ]
  },
  {
   "cell_type": "code",
   "execution_count": null,
   "metadata": {
    "collapsed": false
   },
   "outputs": [],
   "source": [
    "Lasso_RMSE = []\n",
    "LassoCV_Reg = LassoCV(alphas = [ .001*i for i in range(1000)])\n",
    "\n",
    "for i in range(1):\n",
    "    Lasso_RMSE.append(CV(train,LassoCV_Reg,100))\n",
    "np.mean(Lasso_RMSE)"
   ]
  },
  {
   "cell_type": "markdown",
   "metadata": {
    "collapsed": true
   },
   "source": [
    "### Final result for RMS Log Error if using \"leave-one-out\":\n",
    "    Ridge : 0.077\n",
    "    Lasso : Computer was going to catch fire :[. 0.104 with k=100 folds though\n",
    "    Linear: 0.082\n",
    "### Using k=5 folds\n",
    "    Ridge: .112\n",
    "    Lasso: .111\n",
    "    Linear:.132\n"
   ]
  },
  {
   "cell_type": "code",
   "execution_count": null,
   "metadata": {
    "collapsed": false
   },
   "outputs": [],
   "source": [
    "X = train.copy()\n",
    "y = X.SalePrice\n",
    "\n",
    "del X['SalePrice']\n",
    "X = X.values\n",
    "\n",
    "regressors.plots.plot_residuals(Lin_Reg,X,y,r_type='standardized',figsize=(12,6))\n"
   ]
  },
  {
   "cell_type": "code",
   "execution_count": null,
   "metadata": {
    "collapsed": false
   },
   "outputs": [],
   "source": [
    "regressors.plots.plot_qq(Lin_Reg, X, y,figsize=(12,6))\n"
   ]
  },
  {
   "cell_type": "code",
   "execution_count": null,
   "metadata": {
    "collapsed": true
   },
   "outputs": [],
   "source": [
    "train.to_csv(\"Final_Data.csv\")"
   ]
  },
  {
   "cell_type": "raw",
   "metadata": {},
   "source": []
  },
  {
   "cell_type": "code",
   "execution_count": null,
   "metadata": {
    "collapsed": false
   },
   "outputs": [],
   "source": [
    "X = train.copy()\n",
    "y = X.SalePrice\n",
    "del X['SalePrice']\n",
    "\n",
    "X = X.values\n",
    "\n",
    "LinearFitStats = Lin_Reg.fit(X,y)"
   ]
  },
  {
   "cell_type": "code",
   "execution_count": null,
   "metadata": {
    "collapsed": false
   },
   "outputs": [],
   "source": [
    "LinearFitStats.summary()"
   ]
  },
  {
   "cell_type": "code",
   "execution_count": null,
   "metadata": {
    "collapsed": true
   },
   "outputs": [],
   "source": [
    "test = pd.read_csv('Final_Data.csv')"
   ]
  },
  {
   "cell_type": "code",
   "execution_count": null,
   "metadata": {
    "collapsed": false
   },
   "outputs": [],
   "source": [
    "test"
   ]
  },
  {
   "cell_type": "code",
   "execution_count": null,
   "metadata": {
    "collapsed": true
   },
   "outputs": [],
   "source": []
  }
 ],
 "metadata": {
  "kernelspec": {
   "display_name": "Python 2",
   "language": "python",
   "name": "python2"
  },
  "language_info": {
   "codemirror_mode": {
    "name": "ipython",
    "version": 2
   },
   "file_extension": ".py",
   "mimetype": "text/x-python",
   "name": "python",
   "nbconvert_exporter": "python",
   "pygments_lexer": "ipython2",
   "version": "2.7.13"
  }
 },
 "nbformat": 4,
 "nbformat_minor": 2
}
