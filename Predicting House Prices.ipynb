{
 "cells": [
  {
   "cell_type": "code",
   "execution_count": 28,
   "metadata": {
    "collapsed": false
   },
   "outputs": [],
   "source": [
    "#import packages\n",
    "import numpy as np\n",
    "import pandas as pd\n",
    "import matplotlib.pyplot as plt\n",
    "import seaborn\n",
    "import warnings\n",
    "#import models\n",
    "from sklearn.decomposition import PCA\n",
    "from sklearn.model_selection import KFold\n",
    "from sklearn import linear_model\n",
    "from sklearn.metrics import r2_score\n",
    "from sklearn.model_selection import cross_val_score\n"
   ]
  },
  {
   "cell_type": "code",
   "execution_count": 33,
   "metadata": {
    "collapsed": false
   },
   "outputs": [],
   "source": [
    "#Andrew fixed up the training data set, so use that for new training set\n",
    "newtrain = pd.read_csv(\"/Users/triciangoon/Math189-Predicting-Housing-Prices/Math189-Predicting-Housing-Prices/new_training_data.csv\")\n",
    "no_dummies = pd.read_csv(\"/Users/triciangoon/Math189-Predicting-Housing-Prices/Math189-Predicting-Housing-Prices/no_dummies.csv\")\n",
    "targets = newtrain['SalePrice']\n",
    "no_dummies = no_dummies.drop('SalePrice',1)\n",
    "newtrain = newtrain.drop('SalePrice', 1)\n",
    "newtrain = pd.get_dummies(newtrain)\n",
    "#newtrain.head()"
   ]
  },
  {
   "cell_type": "code",
   "execution_count": 30,
   "metadata": {
    "collapsed": false
   },
   "outputs": [],
   "source": [
    "# outliers = newtrain[newtrain['GrLivArea'] > 4500]\n",
    "# outliers.describe()\n",
    "# outliers_index = newtrain[newtrain['GrLivArea'] > 4500].index\n",
    "# newtrain = newtrain.drop(newtrain.index[[outliers_index]])"
   ]
  },
  {
   "cell_type": "code",
   "execution_count": 34,
   "metadata": {
    "collapsed": false
   },
   "outputs": [],
   "source": [
    "numerical_features = [key for key in dict(no_dummies.dtypes) if dict(no_dummies.dtypes)[key] in ['float64', 'int64']]\n",
    "skewed_features = []\n",
    "for feature in numerical_features:\n",
    "    if abs(no_dummies[feature].skew()) > .8:\n",
    "        skewed_features.append(feature)"
   ]
  },
  {
   "cell_type": "code",
   "execution_count": 35,
   "metadata": {
    "collapsed": false
   },
   "outputs": [
    {
     "data": {
      "text/plain": [
       "['3SsnPorch',\n",
       " 'BsmtUnfSF',\n",
       " '2ndFlrSF',\n",
       " 'LotArea',\n",
       " 'GrLivArea',\n",
       " 'MasVnrArea',\n",
       " 'LotFrontage',\n",
       " 'MiscVal',\n",
       " 'KitchenAbvGr',\n",
       " 'BsmtHalfBath',\n",
       " 'BsmtFinSF2',\n",
       " 'OpenPorchSF',\n",
       " 'PoolArea',\n",
       " 'ScreenPorch',\n",
       " 'MSSubClass',\n",
       " 'WoodDeckSF',\n",
       " '1stFlrSF',\n",
       " 'LowQualFinSF',\n",
       " 'EnclosedPorch']"
      ]
     },
     "execution_count": 35,
     "metadata": {},
     "output_type": "execute_result"
    }
   ],
   "source": [
    "skewed_features"
   ]
  },
  {
   "cell_type": "code",
   "execution_count": 36,
   "metadata": {
    "collapsed": false
   },
   "outputs": [],
   "source": [
    "newtrain = newtrain.copy()\n",
    "for feature in skewed_features:\n",
    "    newtrain[feature] = np.log1p(newtrain[feature])"
   ]
  },
  {
   "cell_type": "code",
   "execution_count": 37,
   "metadata": {
    "collapsed": false
   },
   "outputs": [],
   "source": [
    "#log transform of data\n",
    "targets = np.log1p(targets)"
   ]
  },
  {
   "cell_type": "code",
   "execution_count": 54,
   "metadata": {
    "collapsed": false
   },
   "outputs": [
    {
     "name": "stdout",
     "output_type": "stream",
     "text": [
      "[ 0.46926919  0.77308848  0.94156507  0.99739099  0.99925846  0.99964538\n",
      "  0.99989044  0.99991046  0.99992304  0.99993339  0.99994279  0.99994942\n",
      "  0.99995513  0.99995949  0.99996276  0.99996574  0.99996867  0.99997135\n",
      "  0.99997358  0.99997519  0.99997662  0.99997778  0.99997876  0.99997964\n",
      "  0.99998046  0.99998121  0.99998191  0.99998261  0.9999832   0.99998374\n",
      "  0.99998423  0.99998472  0.99998519  0.99998565  0.99998609  0.9999865\n",
      "  0.9999869   0.99998729  0.99998767  0.99998803  0.99998839  0.99998872\n",
      "  0.99998905  0.99998937  0.99998968  0.99998997  0.99999025  0.99999053\n",
      "  0.9999908   0.99999107  0.99999132  0.99999156  0.99999179  0.99999202\n",
      "  0.99999223  0.99999245  0.99999266  0.99999286  0.99999305  0.99999324\n",
      "  0.99999342  0.9999936   0.99999377  0.99999394  0.99999409  0.99999425\n",
      "  0.9999944   0.99999455  0.99999469  0.99999483  0.99999497  0.9999951\n",
      "  0.99999524  0.99999536  0.99999549  0.99999561  0.99999573  0.99999584\n",
      "  0.99999595  0.99999605  0.99999615  0.99999625  0.99999634  0.99999644\n",
      "  0.99999652  0.99999661  0.99999669  0.99999678  0.99999685  0.99999693\n",
      "  0.99999701  0.99999708  0.99999715  0.99999722  0.99999728  0.99999735\n",
      "  0.99999741  0.99999748  0.99999754  0.9999976   0.99999766  0.99999771\n",
      "  0.99999777  0.99999782  0.99999788  0.99999793  0.99999798  0.99999803\n",
      "  0.99999808  0.99999813  0.99999818  0.99999823  0.99999827  0.99999832\n",
      "  0.99999836  0.9999984   0.99999845  0.99999849  0.99999853  0.99999857\n",
      "  0.9999986   0.99999864  0.99999868  0.99999871  0.99999875  0.99999878\n",
      "  0.99999882  0.99999885  0.99999889  0.99999892  0.99999895  0.99999898\n",
      "  0.99999901  0.99999904  0.99999906  0.99999909  0.99999912  0.99999914\n",
      "  0.99999917  0.99999919  0.99999922  0.99999924  0.99999926  0.99999928\n",
      "  0.99999931  0.99999933  0.99999935  0.99999937  0.99999938  0.9999994\n",
      "  0.99999942  0.99999944  0.99999946  0.99999947  0.99999949  0.99999951\n",
      "  0.99999952  0.99999954  0.99999955  0.99999957  0.99999958  0.99999959\n",
      "  0.99999961  0.99999962  0.99999963  0.99999964  0.99999966  0.99999967\n",
      "  0.99999968  0.99999969  0.9999997   0.99999971  0.99999972  0.99999973\n",
      "  0.99999974  0.99999975  0.99999976  0.99999977  0.99999978  0.99999979\n",
      "  0.9999998   0.9999998   0.99999981  0.99999982  0.99999983  0.99999983\n",
      "  0.99999984  0.99999985  0.99999985  0.99999986  0.99999986  0.99999987\n",
      "  0.99999987  0.99999988  0.99999988  0.99999989  0.99999989  0.9999999\n",
      "  0.9999999   0.99999991  0.99999991  0.99999992  0.99999992  0.99999992\n",
      "  0.99999993  0.99999993  0.99999993  0.99999994  0.99999994  0.99999994\n",
      "  0.99999994  0.99999995  0.99999995  0.99999995  0.99999995  0.99999996\n",
      "  0.99999996  0.99999996  0.99999996  0.99999997  0.99999997  0.99999997\n",
      "  0.99999997  0.99999997  0.99999997  0.99999998  0.99999998  0.99999998\n",
      "  0.99999998  0.99999998  0.99999998  0.99999998  0.99999999  0.99999999\n",
      "  0.99999999  0.99999999  0.99999999  0.99999999  0.99999999  0.99999999\n",
      "  0.99999999  0.99999999  1.          1.          1.          1.          1.\n",
      "  1.          1.          1.          1.          1.          1.          1.\n",
      "  1.          1.          1.          1.          1.          1.          1.\n",
      "  1.          1.          1.          1.          1.          1.          1.\n",
      "  1.          1.          1.          1.          1.          1.          1.\n",
      "  1.          1.          1.          1.          1.          1.          1.\n",
      "  1.          1.          1.          1.          1.          1.          1.\n",
      "  1.          1.          1.          1.          1.          1.          1.\n",
      "  1.          1.          1.          1.          1.          1.        ]\n"
     ]
    }
   ],
   "source": [
    "#run PCA\n",
    "pca = PCA(whiten=True)\n",
    "pca.fit(newtrain,targets)\n",
    "#variance to determine # of components\n",
    "var = pca.explained_variance_ratio_\n",
    "#cumulative variance\n",
    "cumvar = np.cumsum(pca.explained_variance_ratio_)\n",
    "print cumvar\n",
    "pcadata = pca.transform(newtrain)"
   ]
  },
  {
   "cell_type": "code",
   "execution_count": 59,
   "metadata": {
    "collapsed": false
   },
   "outputs": [
    {
     "data": {
      "image/png": "[encoded data removed]",
      "text/plain": [
       "<matplotlib.figure.Figure at 0x116b89ed0>"
      ]
     },
     "metadata": {},
     "output_type": "display_data"
    }
   ],
   "source": [
    "varr = pd.DataFrame(pca.explained_variance_ratio_)\n",
    "plt.xlim(1,10)\n",
    "plt.xlabel(\"Principal Components\")\n",
    "plt.ylabel(\"Variance\")\n",
    "plt.plot(range(1,303),varr,marker='o')\n",
    "plt.show()"
   ]
  },
  {
   "cell_type": "code",
   "execution_count": null,
   "metadata": {
    "collapsed": true
   },
   "outputs": [],
   "source": []
  },
  {
   "cell_type": "code",
   "execution_count": 73,
   "metadata": {
    "collapsed": false
   },
   "outputs": [
    {
     "name": "stdout",
     "output_type": "stream",
     "text": [
      "[[ 0.21062867 -1.7063869  -0.99737894 ...,  0.01668978 -0.27433727\n",
      "   0.43566786]\n",
      " [ 1.06457459 -1.66191006 -0.7863562  ...,  0.86606859 -0.73493184\n",
      "  -2.33152415]\n",
      " [ 0.01663799 -1.71759883 -0.32689736 ..., -0.31087143  0.298552\n",
      "  -0.00368997]\n",
      " ..., \n",
      " [-0.24943618  1.70037427  0.46173275 ...,  3.64157175  3.06228488\n",
      "  -1.9971592 ]\n",
      " [-0.65550895  1.6754658   0.79939673 ..., -1.69474706  1.28457665\n",
      "   0.21635179]\n",
      " [ 0.64756291  1.76830495 -0.53761556 ...,  0.19717443 -1.20094742\n",
      "   0.3451132 ]]\n"
     ]
    }
   ],
   "source": [
    "#5 components, features up until variance =>.99\n",
    "pca = PCA(n_components=20, whiten=True)\n",
    "pca = pca.fit(newtrain)\n",
    "pcadata = pca.transform(newtrain)\n",
    "print pcadata"
   ]
  },
  {
   "cell_type": "code",
   "execution_count": 74,
   "metadata": {
    "collapsed": false
   },
   "outputs": [],
   "source": [
    "#test models\n",
    "def NormRMSE(observed, predicted):\n",
    "    return np.sqrt(((predicted - observed)**2).mean())\n",
    "\n",
    "def CV(data,targets,model,k):\n",
    "    RMSE = []\n",
    "    kf = KFold(n_splits=k, shuffle=True)\n",
    "    X = data.copy()\n",
    "\n",
    "    y = targets\n",
    "    #X = X.values\n",
    "\n",
    "    for train_index, test_index in kf.split(X):\n",
    "        X_train, X_test = X[train_index, :], X[test_index, :]\n",
    "        y_train, y_test = y[train_index], y[test_index]\n",
    "        model.fit(X_train, y_train)\n",
    "        y_predictions = model.predict(X_test)\n",
    "\n",
    "    RMSE.append(NormRMSE(y_test, y_predictions))\n",
    "    return np.mean(RMSE)"
   ]
  },
  {
   "cell_type": "code",
   "execution_count": 72,
   "metadata": {
    "collapsed": false
   },
   "outputs": [
    {
     "data": {
      "image/png": "[encoded data removed]",
      "text/plain": [
       "<matplotlib.figure.Figure at 0x116f06d50>"
      ]
     },
     "metadata": {},
     "output_type": "display_data"
    }
   ],
   "source": [
    "errors = []\n",
    "for i in range(1,100):\n",
    "    pca = PCA(n_components=i, whiten=True)\n",
    "    pca = pca.fit(newtrain)\n",
    "    pcadata = pca.transform(newtrain)\n",
    "    errors.append(CV(pcadata,targets,Lin_reg,20))\n",
    "plt.plot(range(1,100),errors)\n",
    "plt.xlabel(\"Principal Components\")\n",
    "plt.ylabel(\"Variance\")\n",
    "plt.savefig('pca_erros.png')\n",
    "plt.show()\n"
   ]
  },
  {
   "cell_type": "code",
   "execution_count": 75,
   "metadata": {
    "collapsed": false
   },
   "outputs": [],
   "source": [
    "#test models\n",
    "Lin_reg = linear_model.LinearRegression()\n",
    "Rid_reg = linear_model.RidgeCV()\n",
    "Lass = linear_model.LassoCV(alphas = [ .001*i for i in range(1,2000)])"
   ]
  },
  {
   "cell_type": "code",
   "execution_count": 77,
   "metadata": {
    "collapsed": false
   },
   "outputs": [
    {
     "name": "stdout",
     "output_type": "stream",
     "text": [
      "0.00667084684324\n",
      "0.110808616894\n",
      "0.224310843215\n"
     ]
    }
   ],
   "source": [
    "#leave-one-out cross validation\n",
    "RMSE = CV(pcadata,targets,Lin_reg,len(pcadata))\n",
    "print(RMSE)\n",
    "\n",
    "RMSE = CV(pcadata,targets,Rid_reg,len(pcadata))\n",
    "print(RMSE)\n",
    "\n",
    "RMSE = CV(pcadata,targets,Lass,len(pcadata))\n",
    "print(RMSE)"
   ]
  },
  {
   "cell_type": "code",
   "execution_count": 76,
   "metadata": {
    "collapsed": false
   },
   "outputs": [
    {
     "name": "stdout",
     "output_type": "stream",
     "text": [
      "0.134277910386\n",
      "0.128227657543\n",
      "0.137110545673\n"
     ]
    }
   ],
   "source": [
    "#5 k-folds\n",
    "RMSE = CV(pcadata,targets,Lin_reg,5)\n",
    "print(RMSE)\n",
    "\n",
    "RMSE = CV(pcadata,targets,Rid_reg,5)\n",
    "print(RMSE)\n",
    "\n",
    "RMSE = CV(pcadata,targets,Lass,5)\n",
    "print(RMSE)"
   ]
  },
  {
   "cell_type": "code",
   "execution_count": null,
   "metadata": {
    "collapsed": true
   },
   "outputs": [],
   "source": []
  }
 ],
 "metadata": {
  "kernelspec": {
   "display_name": "Python 2",
   "language": "python",
   "name": "python2"
  },
  "language_info": {
   "codemirror_mode": {
    "name": "ipython",
    "version": 2
   },
   "file_extension": ".py",
   "mimetype": "text/x-python",
   "name": "python",
   "nbconvert_exporter": "python",
   "pygments_lexer": "ipython2",
   "version": "2.7.13"
  }
 },
 "nbformat": 4,
 "nbformat_minor": 2
}
